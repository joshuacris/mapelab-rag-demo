{
 "cells": [
  {
   "cell_type": "code",
   "execution_count": 1,
   "metadata": {},
   "outputs": [],
   "source": [
    "import os\n",
    "from langchain.document_loaders import PyPDFLoader, CSVLoader\n",
    "from langchain.text_splitter import RecursiveCharacterTextSplitter, CharacterTextSplitter\n",
    "import cohere\n",
    "import pandas as pd\n",
    "import numpy as np\n",
    "from langchain.embeddings import CohereEmbeddings\n",
    "from langchain.vectorstores import Chroma\n",
    "from langchain.chains import RetrievalQA\n",
    "from langchain.prompts import PromptTemplate\n",
    "import datetime\n",
    "import sys\n",
    "sys.path.append('../')\n",
    "\n",
    "from dotenv import load_dotenv, find_dotenv\n",
    "_ = load_dotenv(find_dotenv())"
   ]
  },
  {
   "cell_type": "code",
   "execution_count": 13,
   "metadata": {},
   "outputs": [],
   "source": [
    "COHERE_API_KEY = os.environ.get(\"COHERE_API_KEY\")\n",
    "co = cohere.Client(COHERE_API_KEY)"
   ]
  },
  {
   "cell_type": "code",
   "execution_count": 4,
   "metadata": {},
   "outputs": [],
   "source": [
    "loader = PyPDFLoader(\"../data/Beliefs-About-Linear-Social-Progress.pdf\")\n",
    "pages = loader.load()\n",
    "file_path = \"../data/BetterUp-Classified.csv\"\n",
    "loader = CSVLoader(file_path=file_path)\n",
    "documents = loader.load()"
   ]
  },
  {
   "cell_type": "code",
   "execution_count": 5,
   "metadata": {},
   "outputs": [],
   "source": [
    "text_splitter = RecursiveCharacterTextSplitter(\n",
    "    chunk_size = 1500,\n",
    "    chunk_overlap = 150\n",
    ")"
   ]
  },
  {
   "cell_type": "code",
   "execution_count": 6,
   "metadata": {},
   "outputs": [],
   "source": [
    "splits = text_splitter.split_documents(pages)"
   ]
  },
  {
   "cell_type": "code",
   "execution_count": 7,
   "metadata": {},
   "outputs": [],
   "source": [
    "df = pd.read_csv(\"../data/BetterUp-Classified.csv\")\n",
    "df[\"Conversation Part 1\"] = df[\"Conversation Part 1\"].fillna(\"\")\n",
    "df[\"Conversation Part 2\"] = df[\"Conversation Part 2\"].fillna(\"\")\n",
    "df[\"Conversation Part 3\"] = df[\"Conversation Part 3\"].fillna(\"\")\n",
    "df[\"formatted\"] = df[\"Conversation Part 1\"] + \" \" + df[\"Conversation Part 2\"] + \" \" + df[\"Conversation Part 3\"]\n",
    "df = df.drop_duplicates(subset=[\"formatted\"])"
   ]
  },
  {
   "cell_type": "code",
   "execution_count": 8,
   "metadata": {},
   "outputs": [],
   "source": [
    "text_splitter = RecursiveCharacterTextSplitter(\n",
    "    chunk_size=1500,\n",
    "    chunk_overlap=150\n",
    ")"
   ]
  },
  {
   "cell_type": "code",
   "execution_count": 9,
   "metadata": {},
   "outputs": [],
   "source": [
    "all_chunks = []\n",
    "for idx, row in df.iterrows():\n",
    "    conversation_id = row['convo_id']\n",
    "    text = row['formatted']\n",
    "    chunks = text_splitter.split_text(text)\n",
    "    for i, chunk in enumerate(chunks):\n",
    "        all_chunks.append({\n",
    "            \"id\": f\"{conversation_id}_{i}\",\n",
    "            \"source\": \"csv\",\n",
    "            \"text\": chunk\n",
    "        })"
   ]
  },
  {
   "cell_type": "code",
   "execution_count": 17,
   "metadata": {},
   "outputs": [],
   "source": [
    "embedding_model = CohereEmbeddings(model=\"embed-english-v3.0\", cohere_api_key=COHERE_API_KEY, user_agent=\"langchain-embeddings\")"
   ]
  },
  {
   "cell_type": "code",
   "execution_count": 20,
   "metadata": {},
   "outputs": [],
   "source": [
    "persist_directory = '../docs/chroma/'"
   ]
  },
  {
   "cell_type": "code",
   "execution_count": 21,
   "metadata": {},
   "outputs": [],
   "source": [
    "vectordb = Chroma.from_documents(\n",
    "    documents=splits,\n",
    "    embedding=embedding_model,\n",
    "    persist_directory=persist_directory\n",
    ")"
   ]
  },
  {
   "cell_type": "code",
   "execution_count": 28,
   "metadata": {},
   "outputs": [
    {
     "data": {
      "text/plain": [
       "[Document(metadata={'author': 'Julia D. Hur and Rachel L. Ruttan', 'creator': 'Adobe InDesign CS5.5 (7.5)', 'rgid': 'PB:369478403_AS:11431281204625714@1699893051228', 'total_pages': 18, 'subject': 'Pers Soc Psychol Bull 0.0:01461672231158843', 'creationdate': '2023-03-21T16:12:55+05:30', 'keywords': 'lay beliefs,diversity,equality,social justice,social issues', 'title': 'Beliefs About Linear Social Progress', 'trapped': '/False', 'page': 0, 'page_label': '1', 'moddate': '2023-11-13T08:28:22-08:00', 'source': '../data/Beliefs-About-Linear-Social-Progress.pdf', 'producer': 'Adobe PDF Library 9.9; modified using iText 4.2.0 by 1T3XT'}, page_content='See discussions, stats, and author profiles for this publication at: https://www.researchgate.net/publication/369478403\\nBeliefs About Linear Social Progress\\nArticle\\xa0\\xa0in \\xa0\\xa0Personality and Social Psychology Bulletin · March 2023\\nDOI: 10.1177/01461672231158843\\nCITATIONS\\n6\\nREADS\\n184\\n2 authors:\\nJulia Hur\\nUniversity Canada West\\n16 PUBLICATIONS\\xa0\\xa0\\xa0249 CITATIONS\\xa0\\xa0\\xa0\\nSEE PROFILE\\nRachel Ruttan\\nWashington University in St. Louis\\n32 PUBLICATIONS\\xa0\\xa0\\xa0347 CITATIONS\\xa0\\xa0\\xa0\\nSEE PROFILE\\nAll content following this page was uploaded by Rachel Ruttan on 13 November 2023.\\nThe user has requested enhancement of the downloaded file.'),\n",
       " Document(metadata={'page': 16, 'total_pages': 18, 'moddate': '2023-11-13T08:28:22-08:00', 'page_label': '17', 'keywords': 'lay beliefs,diversity,equality,social justice,social issues', 'source': '../data/Beliefs-About-Linear-Social-Progress.pdf', 'creator': 'Adobe InDesign CS5.5 (7.5)', 'author': 'Julia D. Hur and Rachel L. Ruttan', 'subject': 'Pers Soc Psychol Bull 0.0:01461672231158843', 'title': 'Beliefs About Linear Social Progress', 'rgid': 'PB:369478403_AS:11431281204625714@1699893051228', 'trapped': '/False', 'producer': 'Adobe PDF Library 9.9; modified using iText 4.2.0 by 1T3XT', 'creationdate': '2023-03-21T16:12:55+05:30'}, page_content='Clifford, S., Jewell, R. M., & Waggoner, P. D. (2015). Are samples \\ndrawn from Mechanical Turk valid for research on political \\nideology? Research & Politics, 2(4), 1–9.\\nCrawford, A., Lewis, S., & Traynor, P. (2017). “It ain’t (just) \\nwhat you do, it’s (also) the way that you do it”: The role of \\nProcedural Justice in the Implementation of Anti-social \\nBehaviour Interventions with Young People. European Journal \\non Criminal Policy and Research, 23(1), 9–26.\\nCritcher, C. R., & Risen, J. L. (2014). If he can do it, so can they: \\nExposure to counterstereotypically successful exemplars \\nprompts automatic inferences. Journal of Personality and \\nSocial Psychology, 106(3), 359–379.\\nCronin, M. A., Gonzalez, C., & Sterman, J. D. (2009). Why don’t \\nwell-educated adults understand accumulation? A challenge to \\nresearchers, educators, and citizens. Organizational Behavior \\nand Human Decision Processes, 108(1), 116–130.\\nCryder, C. E., Loewenstein, G., & Seltman, H. (2013). Goal gra-\\ndient in helping behavior. Journal of Experimental Social \\nPsychology, 49(6), 1078–1083.\\nCundiff, J. L., Zawadzki, M. J., Danube, C. L., & Shields, S. A. \\n(2014). Using experiential learning to increase the recognition \\nof everyday sexism as harmful: The WAGES intervention. \\nJournal of Social Issues, 70(4), 703–721.\\nDavidai, S., & Gilovich, T. (2015). Building a more mobile \\nAmerica—One income quintile at a time. Perspectives on \\nPsychological Science, 10(1), 60–71.'),\n",
       " Document(metadata={'total_pages': 18, 'page_label': '18', 'trapped': '/False', 'moddate': '2023-11-13T08:28:22-08:00', 'keywords': 'lay beliefs,diversity,equality,social justice,social issues', 'author': 'Julia D. Hur and Rachel L. Ruttan', 'creationdate': '2023-03-21T16:12:55+05:30', 'page': 17, 'title': 'Beliefs About Linear Social Progress', 'source': '../data/Beliefs-About-Linear-Social-Progress.pdf', 'creator': 'Adobe InDesign CS5.5 (7.5)', 'producer': 'Adobe PDF Library 9.9; modified using iText 4.2.0 by 1T3XT', 'rgid': 'PB:369478403_AS:11431281204625714@1699893051228', 'subject': 'Pers Soc Psychol Bull 0.0:01461672231158843'}, page_content='favorable future. Psychological Science, 28(9), 1290–1301.\\nScheuble, L. K., Johnson, D. R., & Johnson, K. M. (2012). Marital \\nname changing attitudes and plans of college students: Comparing \\nchange over time and across regions. Sex Roles, 66(3–4), 282–292.\\nSeamster, L., & Ray, V. (2018). Against teleology in the study \\nof race: Toward the abolition of the progress paradigm. \\nSociological Theory, 36(4), 315–342.\\nSidanius, J., Pratto, F., & Bobo, L. (1996). Racism, conservatism, \\naffirmative action, and intellectual sophistication: A matter \\nof principled conservatism or group dominance? Journal of \\nPersonality and Social Psychology, 70(3), 476–490.\\nSmith, C. (2000). Content analysis and narrative analysis. In H. T. \\nReis & C. M. Judd (Eds.), Handbook of research methods in \\nsocial and personality psychology (pp. 313–335). Cambridge \\nUniversity Press.\\nSouthern Poverty Law Center. (2022). Hate map. http://www.\\nsplcenter.org/get-informed/hate-map\\nSparkman, G., & Walton, G. M. (2017). Dynamic norms pro-\\nmote sustainable behavior, even if it is counternormative. \\nPsychological Science, 28(11), 1663–1674.\\nTetlock, P. E. (2005). Gauging the heuristic value of heuristics. \\nBehavioral and Brain Sciences, 28(4), 562–563.\\nTorgerson, D. (1995). The uncertain quest for sustainability: Public \\ndiscourse and the politics of environmentalism. In F. Fischer \\n& M. Black (Eds.), Greening environmental policy (pp. 3–20). \\nPalgrave Macmillan.')]"
      ]
     },
     "execution_count": 28,
     "metadata": {},
     "output_type": "execute_result"
    }
   ],
   "source": [
    "question = \"who is the author of the paper?\"\n",
    "docs = vectordb.similarity_search(question,k=3)"
   ]
  },
  {
   "cell_type": "code",
   "execution_count": 30,
   "metadata": {},
   "outputs": [],
   "source": [
    "from langchain.schema import Document"
   ]
  },
  {
   "cell_type": "code",
   "execution_count": 31,
   "metadata": {},
   "outputs": [],
   "source": [
    "documents = [\n",
    "    Document(page_content=chunk[\"text\"], metadata=chunk.get(\"metadata\", {}))\n",
    "    for chunk in all_chunks\n",
    "]"
   ]
  },
  {
   "cell_type": "code",
   "execution_count": 34,
   "metadata": {},
   "outputs": [
    {
     "data": {
      "text/plain": [
       "Document(metadata={}, page_content=\"Speaker A: fine. Perfect. Yeah. Mhm. Mhm. Yeah. Yeah. Speaker B: No, I'm good. Speaker A: No. Hi, how are you? Speaker B: How are you? Speaker A: Good thanks. Speaker B: Hm My name is played to me and the next time you Amanda. Speaker A: Mhm. Hi, my name's Amanda. All right. Speaker B: Mm. Speaker A: Does that time start? Yeah, three o'clock okay, starts now. Speaker B: Oh right. At three. Speaker A: Yeah. Speaker B: Right, right. Speaker A: What's that? Don't go early so I didn't want to. All right. Okay. Speaker B: Yeah, I don't know anything whatever. Speaker A: So what do you want to talk about? Where are you located? Speaker B: Um, right now my wife and I are living in texas. In Austin texas. Speaker A: Really? Speaker B: Yeah. So uh, I'm sorry my kid just walked in there, Jack, can you have boston put a clean diaper on you? Speaker A: So strange. Right. Mhm. Speaker B: Okay. It's like I put a diaper on my kitties around naked one second. Speaker A: No problem. No problem. Uh huh. Speaker B: Okay. I don't know. Oh, mm. What? Oh, I'm sorry. Okay, here's what's going on here? Sorry about that. Speaker A: No bro. Speaker B: Yeah, we have four kids, so life is very busy. Speaker A: Yeah. That's so strange that that here in Austin. I wonder how they yeah, yeah, how they paired it because I also live in Austin. Speaker B: Oh really? Speaker A: Yeah, I guess I yeah. Speaker B: Yeah, we're often were in Buta, just south of Austin, so yeah, that's funny. Speaker A: Yeah, I'm in\")"
      ]
     },
     "execution_count": 34,
     "metadata": {},
     "output_type": "execute_result"
    }
   ],
   "source": [
    "documents[0]"
   ]
  },
  {
   "cell_type": "code",
   "execution_count": 36,
   "metadata": {},
   "outputs": [
    {
     "name": "stderr",
     "output_type": "stream",
     "text": [
      "/var/folders/sm/h_vm8nzd6z54q1s5kfsmm6x00000gn/T/ipykernel_70755/2246710904.py:3: LangChainDeprecationWarning: The class `HuggingFaceEmbeddings` was deprecated in LangChain 0.2.2 and will be removed in 1.0. An updated version of the class exists in the :class:`~langchain-huggingface package and should be used instead. To use it run `pip install -U :class:`~langchain-huggingface` and import as `from :class:`~langchain_huggingface import HuggingFaceEmbeddings``.\n",
      "  embedding_model = HuggingFaceEmbeddings(\n",
      "/Users/firefly/Desktop/_WorkStudy/AI-demo/ragdemo/lib/python3.12/site-packages/tqdm/auto.py:21: TqdmWarning: IProgress not found. Please update jupyter and ipywidgets. See https://ipywidgets.readthedocs.io/en/stable/user_install.html\n",
      "  from .autonotebook import tqdm as notebook_tqdm\n"
     ]
    }
   ],
   "source": [
    "from langchain.embeddings import HuggingFaceEmbeddings\n",
    "\n",
    "embedding_model = HuggingFaceEmbeddings(\n",
    "    model_name=\"sentence-transformers/all-MiniLM-L6-v2\"\n",
    ")"
   ]
  },
  {
   "cell_type": "code",
   "execution_count": 39,
   "metadata": {},
   "outputs": [],
   "source": [
    "documents_shortened = [\n",
    "    Document(page_content=doc.page_content[:100], metadata=doc.metadata)\n",
    "    for doc in documents\n",
    "]\n"
   ]
  },
  {
   "cell_type": "code",
   "execution_count": 40,
   "metadata": {},
   "outputs": [],
   "source": [
    "persist_directory_conversations = '../docs/chroma_conversations/'\n",
    "vectordb = Chroma.from_documents(\n",
    "    documents=documents_shortened,\n",
    "    embedding=embedding_model,\n",
    "    persist_directory=persist_directory_conversations\n",
    ")"
   ]
  },
  {
   "cell_type": "code",
   "execution_count": 73,
   "metadata": {},
   "outputs": [],
   "source": [
    "os.environ['LANGCHAIN_TRACING_V2'] = 'true'\n",
    "os.environ['LANGCHAIN_ENDPOINT'] = 'https://api.smith.langchain.com'\n",
    "os.environ['LANGCHAIN_API_KEY'] = os.environ.get(\"LANGCHAIN_API_KEY\")"
   ]
  },
  {
   "cell_type": "code",
   "execution_count": 90,
   "metadata": {},
   "outputs": [],
   "source": [
    "template = \"\"\"Use the following pieces of context to answer the question at the end. If you don't know the answer, just say that you don't know, don't try to make up an answer. Be as detailed as possible.\n",
    "{context}\n",
    "Question: {question}\n",
    "Helpful Answer:\"\"\"\n",
    "QA_CHAIN_PROMPT = PromptTemplate.from_template(template)"
   ]
  },
  {
   "cell_type": "code",
   "execution_count": 44,
   "metadata": {},
   "outputs": [],
   "source": [
    "embedding_model_cohere = CohereEmbeddings(model=\"embed-english-v3.0\", cohere_api_key=COHERE_API_KEY, user_agent=\"langchain-embeddings\")"
   ]
  },
  {
   "cell_type": "code",
   "execution_count": 46,
   "metadata": {},
   "outputs": [],
   "source": [
    "vectordb = Chroma(persist_directory=persist_directory, embedding_function=embedding_model_cohere)\n",
    "vectordb_convos = Chroma(persist_directory=persist_directory_conversations, embedding_function=embedding_model)"
   ]
  },
  {
   "cell_type": "code",
   "execution_count": 80,
   "metadata": {},
   "outputs": [
    {
     "name": "stderr",
     "output_type": "stream",
     "text": [
      "/var/folders/sm/h_vm8nzd6z54q1s5kfsmm6x00000gn/T/ipykernel_70755/1885975952.py:15: PydanticDeprecatedSince20: Pydantic V1 style `@root_validator` validators are deprecated. You should migrate to Pydantic V2 style `@model_validator` validators, see the migration guide for more details. Deprecated in Pydantic V2.0 to be removed in V3.0. See Pydantic V2 Migration Guide at https://errors.pydantic.dev/2.11/migration/\n",
      "  @root_validator(pre=True)\n"
     ]
    }
   ],
   "source": [
    "from typing import List, Optional\n",
    "from pydantic import BaseModel, Field, root_validator\n",
    "from langchain.chat_models.base import BaseChatModel\n",
    "from langchain.schema import AIMessage, BaseMessage\n",
    "from langchain.schema.output import ChatGeneration, ChatResult\n",
    "import cohere\n",
    "\n",
    "'''\n",
    "This was ChatGPT generated just to get a demo working for Cohere Langchain integration.\n",
    "The Cohere client currently has a bug in the chat_types so this alternative was used.\n",
    "'''\n",
    "\n",
    "class MyCohereLLM(BaseChatModel):\n",
    "    cohere_api_key: str\n",
    "    model: str = \"command-r-plus\"\n",
    "    temperature: float = 0.3\n",
    "    client: Optional[cohere.Client] = Field(default=None, exclude=True)\n",
    "\n",
    "    @root_validator(pre=True)\n",
    "    def build_client(cls, values):\n",
    "        if values.get(\"client\") is None:\n",
    "            values[\"client\"] = cohere.Client(values[\"cohere_api_key\"])\n",
    "        return values\n",
    "\n",
    "    def _generate(\n",
    "        self,\n",
    "        messages: List[BaseMessage],\n",
    "        stop: Optional[List[str]] = None,\n",
    "        **kwargs,\n",
    "    ) -> ChatResult:\n",
    "        prompt = \"\\n\".join([f\"{m.type.capitalize()}: {m.content}\" for m in messages])\n",
    "\n",
    "        response = self.client.chat(\n",
    "            message=prompt,\n",
    "            model=self.model,\n",
    "            temperature=self.temperature,\n",
    "            stop_sequences=stop,\n",
    "        )\n",
    "\n",
    "        return ChatResult(\n",
    "            generations=[\n",
    "                ChatGeneration(message=AIMessage(content=response.text))\n",
    "            ]\n",
    "        )\n",
    "\n",
    "    @property\n",
    "    def _llm_type(self) -> str:\n",
    "        return \"custom-cohere\"\n"
   ]
  },
  {
   "cell_type": "code",
   "execution_count": 91,
   "metadata": {},
   "outputs": [],
   "source": [
    "llm = MyCohereLLM(cohere_api_key=COHERE_API_KEY)"
   ]
  },
  {
   "cell_type": "code",
   "execution_count": 92,
   "metadata": {},
   "outputs": [],
   "source": [
    "qa_chain = RetrievalQA.from_chain_type(\n",
    "    llm,\n",
    "    retriever=vectordb.as_retriever(),\n",
    "    return_source_documents=True,\n",
    "    chain_type_kwargs={\"prompt\": QA_CHAIN_PROMPT}\n",
    ")"
   ]
  },
  {
   "cell_type": "code",
   "execution_count": 95,
   "metadata": {},
   "outputs": [],
   "source": [
    "response = qa_chain.invoke(\"Explain the goal, methods, and results of Study SEt 5\")"
   ]
  },
  {
   "cell_type": "code",
   "execution_count": 96,
   "metadata": {},
   "outputs": [
    {
     "data": {
      "text/plain": [
       "\"Goal: Study Set 5 aimed to understand the potential consequences of believing in linear progress regarding social issues. Specifically, it explored whether assuming linear progress reduces the perceived urgency of an issue and the perceived effort needed to make further progress.\\n\\nMethod: Study Set 5 consisted of two studies, 5A and 5B, with similar procedures. Participants were recruited via Amazon's Mechanical Turk service, with a predetermined sample size of 200 participants for each study.\\n\\nIn Study 5A, participants were randomly assigned to one of two conditions in a between-subjects design. They were asked to view two graphs depicting progress in gender equality: one showing linear progress and the other showing actual, nonlinear progress. The issues presented were women in STEM and women on boards, and the manipulation involved presenting one issue as linear and the other as nonlinear, based on participants' estimates of progress (linear) versus real data (nonlinear).\\n\\nIn Study 5B, participants were also randomly assigned to one of two conditions, with the same gender equality issues presented. However, in this study, both graphs had the same starting and ending points, but one showed a more linear pattern of progress while the other showed a less linear pattern.\\n\\nIn both studies, participants were asked to indicate which issue they believed was more urgent and required more help and effort to make further progress.\\n\\nResults: The results of Study Set 5 are not explicitly mentioned in the provided text. However, based on the research question and hypotheses, the studies likely examined the impact of believing in linear progress on perceived urgency and effort needed for social issues. The specific findings would provide insight into whether these beliefs influence people's perceptions of the importance and difficulty of addressing social issues.\""
      ]
     },
     "execution_count": 96,
     "metadata": {},
     "output_type": "execute_result"
    }
   ],
   "source": [
    "response['result']"
   ]
  },
  {
   "cell_type": "code",
   "execution_count": 98,
   "metadata": {},
   "outputs": [],
   "source": [
    "qa_chain_convos = RetrievalQA.from_chain_type(\n",
    "    llm,\n",
    "    retriever=vectordb_convos.as_retriever(),\n",
    "    return_source_documents=True,\n",
    "    chain_type_kwargs={\"prompt\": QA_CHAIN_PROMPT}\n",
    ")"
   ]
  },
  {
   "cell_type": "code",
   "execution_count": 101,
   "metadata": {},
   "outputs": [
    {
     "data": {
      "text/plain": [
       "\"I don't know. The provided conversation is not clear and seems to be incomplete. To answer the question, I would need more context and a complete transcript of the conversation.\""
      ]
     },
     "execution_count": 101,
     "metadata": {},
     "output_type": "execute_result"
    }
   ],
   "source": [
    "response = qa_chain_convos.invoke(\"What were the most common themes found in the conversation dataset?\")\n",
    "response['result']"
   ]
  },
  {
   "cell_type": "code",
   "execution_count": 102,
   "metadata": {},
   "outputs": [
    {
     "data": {
      "text/plain": [
       "[Document(metadata={}, page_content='the conversations and stuff. Speaker B: Mhm. You know, every conversation, it seems like I have with'),\n",
       " Document(metadata={}, page_content='B: What? Speaker A: What has like before corona? Speaker B: Yeah. Speaker A: What were some things t'),\n",
       " Document(metadata={}, page_content='stuff too. Speaker A: Research studies that kind of a bunch of lately. Speaker B: Uh huh. Speaker A:'),\n",
       " Document(metadata={}, page_content='Yeah, we had a really interesting topics. Speaker B: Like, we talked about the weather and covid our')]"
      ]
     },
     "execution_count": 102,
     "metadata": {},
     "output_type": "execute_result"
    }
   ],
   "source": [
    "response['source_documents']"
   ]
  },
  {
   "cell_type": "code",
   "execution_count": null,
   "metadata": {},
   "outputs": [],
   "source": [
    "''''The studies referenced in the provided text appear to be a mix of experimental and survey-based research designs. \n",
    "\\n\\nFor example, the Clifford et al. (2015) study appears to be examining the validity of using Amazon\\'s Mechanical Turk for \n",
    "political ideology research. This may involve analyzing existing data or conducting a survey of Mechanical Turk \n",
    "workers to gather political ideology data and then validating it through various methods. \\n\\nCrawford et al. (2017) \n",
    "seem to be reporting on an experimental intervention with young people, likely involving a treatment and control group to \n",
    "understand the role of procedural justice in anti-social behavior interventions. \\n\\nThe Critcher and Risen (2014) study appears to\n",
    " be an experimental one where participants are exposed to counter-stereotypical examples and then measured on their automatic inferences, suggesting a potential priming \n",
    " methodology. \\n\\nThe remaining studies also suggest experimental designs with various manipulations and measurements, \n",
    " but without the full context of each paper, I cannot provide a more detailed explanation of the specific methods employed. \n",
    " However, terms like \"manipulation,\" \"conditions,\" and \"dependent variables\" strongly indicate experimental designs with hypothesis testing. \\n\\nOverall, while the specific methods vary across these studies,\n",
    "they generally seem to involve some form of experimental manipulation and data collection, whether through surveys, observations, or other means, followed by statistical analysis to test hypotheses and draw conclusions.'\n",
    "'''"
   ]
  },
  {
   "cell_type": "code",
   "execution_count": null,
   "metadata": {},
   "outputs": [],
   "source": [
    "'''\n",
    "\"Goal: Study Set 5 aimed to understand the potential consequences of believing in linear progress regarding social issues. Specifically, it explored whether assuming linear progress reduces the perceived \n",
    "urgency of an issue and the perceived effort needed to make further progress.\n",
    "\\n\\nMethod: Study Set 5 consisted of two studies, 5A and 5B, with similar procedures. \n",
    "Participants were recruited via Amazon's Mechanical Turk service, with a predetermined sample size of 200 participants for each \n",
    "study.\\n\\nIn Study 5A, participants were randomly assigned to one of two conditions in a between-subjects design. \n",
    "They were asked to view two graphs depicting progress in gender equality: one showing linear progress and the other showing actual,\n",
    " nonlinear progress. The issues presented were women in STEM and women on boards, and the manipulation involved presenting one \n",
    " issue as linear and the other as nonlinear, based on participants' estimates of progress (linear) versus real data (nonlinear).\n",
    " \\n\\nIn Study 5B, participants were also randomly assigned to one of two conditions, with the same gender equality issues presented. \n",
    " However, in this study, both graphs had the same starting and ending points, but one showed a more linear pattern of progress \n",
    " while the other showed a less linear pattern.\\n\\nIn both studies, participants were asked to indicate which issue they \n",
    " believed was more urgent and required more help and effort to make further progress.\\n\\nResults: \n",
    "The results of Study Set 5 are not explicitly mentioned in the provided text.\n",
    "However, based on the research question and hypotheses, the studies likely examined the impact of believing in linear progress on perceived urgency and effort needed for social issues. The specific findings would provide insight into whether these beliefs influence people's perceptions of the importance and difficulty of addressing social issues.\"\n",
    "\n",
    "'''"
   ]
  }
 ],
 "metadata": {
  "kernelspec": {
   "display_name": "ragdemo",
   "language": "python",
   "name": "python3"
  },
  "language_info": {
   "codemirror_mode": {
    "name": "ipython",
    "version": 3
   },
   "file_extension": ".py",
   "mimetype": "text/x-python",
   "name": "python",
   "nbconvert_exporter": "python",
   "pygments_lexer": "ipython3",
   "version": "3.12.2"
  }
 },
 "nbformat": 4,
 "nbformat_minor": 2
}
